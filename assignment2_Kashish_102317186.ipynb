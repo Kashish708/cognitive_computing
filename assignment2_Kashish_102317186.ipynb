{
 "cells": [
  {
   "cell_type": "code",
   "execution_count": 2,
   "metadata": {},
   "outputs": [
    {
     "name": "stdout",
     "output_type": "stream",
     "text": [
      "List after adding 200 and 300 :  [10, 20, 30, 40, 50, 60, 70, 80, 200, 300]\n",
      "List after removing 10 and 30 :  [20, 40, 50, 60, 70, 80, 200, 300]\n",
      "List after sorting in ascending order :  [20, 40, 50, 60, 70, 80, 200, 300]\n",
      "List after sorting in descending order :  [300, 200, 80, 70, 60, 50, 40, 20]\n"
     ]
    }
   ],
   "source": [
    "# Question 1\n",
    "L = [10, 20, 30, 40, 50, 60, 70, 80]\n",
    "\n",
    "\n",
    "L.append(200)\n",
    "L.append(300)\n",
    "print(\"List after adding 200 and 300 : \" , L )\n",
    "\n",
    "L.remove(10)\n",
    "L.remove(30)\n",
    "print(\"List after removing 10 and 30 : \" , L )\n",
    "\n",
    "L.sort()\n",
    "print(\"List after sorting in ascending order : \" , L )\n",
    "\n",
    "L.sort(reverse=True)\n",
    "print(\"List after sorting in descending order : \" , L )\n",
    "\n",
    "\n"
   ]
  },
  {
   "cell_type": "code",
   "execution_count": 1,
   "metadata": {},
   "outputs": [
    {
     "name": "stdout",
     "output_type": "stream",
     "text": [
      "Highest Score: 92\n",
      "Index of Highest Score: 5\n",
      "Lowest Score: 45\n",
      "Count of Lowest Score: 2\n",
      "Reversed Tuple: (45, 58, 92, 89, 45.4, 76, 89.5, 45)\n",
      "Reversed Tuple as List: [45, 58, 92, 89, 45.4, 76, 89.5, 45]\n",
      "76 is present in the tuple.\n"
     ]
    }
   ],
   "source": [
    "# Question 2\n",
    "scores = (45, 89.5, 76, 45.4, 89, 92, 58, 45)\n",
    "\n",
    "\n",
    "highest_score = max(scores)\n",
    "highest_score_index = scores.index(highest_score)\n",
    "print(\"Highest Score:\", highest_score)\n",
    "print(\"Index of Highest Score:\", highest_score_index)\n",
    "\n",
    "\n",
    "lowest_score = min(scores)\n",
    "lowest_count = scores.count(lowest_score)\n",
    "print(\"Lowest Score:\", lowest_score)\n",
    "print(\"Count of Lowest Score:\", lowest_count)\n",
    "\n",
    "\n",
    "\n",
    "\n",
    "reversed_tuple = scores[::-1]  \n",
    "reversed_list = list(reversed_tuple)  \n",
    "\n",
    "print(\"Reversed Tuple:\", reversed_tuple)\n",
    "print(\"Reversed Tuple as List:\", reversed_list)\n",
    "\n",
    "\n",
    "specific_score = 76\n",
    "if specific_score in scores:\n",
    "    print(f\"{specific_score} is present in the tuple.\")\n",
    "else:\n",
    "    print(f\"{specific_score} is not present in the tuple.\")\n"
   ]
  },
  {
   "cell_type": "code",
   "execution_count": 7,
   "metadata": {},
   "outputs": [
    {
     "name": "stdout",
     "output_type": "stream",
     "text": [
      "Odd Numbers: [509, 481, 105, 477, 281, 189, 267, 705, 367, 451, 409, 611, 725, 409, 299, 677, 133, 351, 491, 787, 351, 665, 731, 219, 357, 463, 127, 143, 535, 621, 365, 597, 343, 169, 593, 263, 681, 127, 383, 181, 423, 503, 253, 447, 291, 409, 807, 511, 745, 731, 183, 107, 563, 237, 619, 397, 783]\n",
      "Even Numbers: [456, 548, 578, 622, 644, 764, 300, 184, 604, 250, 374, 520, 276, 608, 666, 696, 888, 196, 834, 384, 720, 724, 808, 402, 692, 252, 822, 222, 204, 432, 550, 268, 114, 124, 456, 890, 716, 214, 504, 470, 432, 586, 658]\n",
      "Prime Numbers: [509, 281, 367, 409, 409, 677, 491, 787, 463, 127, 593, 263, 127, 383, 181, 503, 409, 107, 563, 619, 397]\n"
     ]
    }
   ],
   "source": [
    "# Question 3\n",
    "import random\n",
    "\n",
    "\n",
    "random_numbers = [random.randint(100, 900) for _ in range(100)]\n",
    "\n",
    "\n",
    "odd_numbers = [num for num in random_numbers if num % 2 == 1]\n",
    "\n",
    "\n",
    "even_numbers = [num for num in random_numbers if num % 2 == 0]\n",
    "\n",
    "\n",
    "def is_prime(n):\n",
    "    if n <= 1:\n",
    "        return False\n",
    "    for i in range(2, int(n**0.5) + 1):\n",
    "        if n % i == 0:\n",
    "            return False\n",
    "    return True\n",
    "\n",
    "prime_numbers = [num for num in random_numbers if is_prime(num)]\n",
    "\n",
    "print(\"Odd Numbers:\", odd_numbers)\n",
    "print(\"Even Numbers:\", even_numbers)\n",
    "print(\"Prime Numbers:\", prime_numbers)\n"
   ]
  },
  {
   "cell_type": "code",
   "execution_count": 11,
   "metadata": {},
   "outputs": [
    {
     "name": "stdout",
     "output_type": "stream",
     "text": [
      "Union of A and B: {34, 45, 78, 23, 56, 90}\n",
      "Intersection of A and B: {90, 78}\n",
      "Symmetric Difference of A and B: {34, 45, 23, 56}\n",
      "Is A a subset of B? False\n",
      "Is B a superset of A? False\n",
      "56 removed from set A.\n",
      "Updated Set A: {34, 90, 78}\n"
     ]
    }
   ],
   "source": [
    "# Question 4\n",
    "\n",
    "\n",
    "A = {34, 56, 78, 90}\n",
    "B = {78, 45, 90, 23}\n",
    "\n",
    "\n",
    "union_scores = A | B  \n",
    "print(\"Union of A and B:\", union_scores)\n",
    "\n",
    "\n",
    "intersection_scores = A & B\n",
    "print(\"Intersection of A and B:\", intersection_scores)\n",
    "\n",
    "\n",
    "symmetric_difference = A ^ B\n",
    "print(\"Symmetric Difference of A and B:\", symmetric_difference)\n",
    "\n",
    "\n",
    "is_A_subset_B = A.issubset(B)\n",
    "is_B_superset_A = B.issuperset(A)\n",
    "print(\"Is A a subset of B?\", is_A_subset_B)\n",
    "print(\"Is B a superset of A?\", is_B_superset_A)\n",
    "\n",
    "\n",
    "specific_score = int(input(\"Enter a score to remove from set A: \"))\n",
    "if specific_score in A:\n",
    "    A.discard(specific_score)  \n",
    "    print(f\"{specific_score} removed from set A.\")\n",
    "else:\n",
    "    print(f\"{specific_score} is not present in set A.\")\n",
    "print(\"Updated Set A:\", A)\n",
    "\n"
   ]
  },
  {
   "cell_type": "code",
   "execution_count": 12,
   "metadata": {},
   "outputs": [
    {
     "name": "stdout",
     "output_type": "stream",
     "text": [
      "Updated Dictionary: {'name': 'Kelly', 'age': 25, 'salary': 8000, 'location': 'New York'}\n"
     ]
    }
   ],
   "source": [
    "# Question 5\n",
    "sample_dict = {\n",
    "    \"name\": \"Kelly\",\n",
    "    \"age\": 25,\n",
    "    \"salary\": 8000,\n",
    "    \"city\": \"New York\"\n",
    "}\n",
    "\n",
    "\n",
    "sample_dict[\"location\"] = sample_dict.pop(\"city\")\n",
    "print(\"Updated Dictionary:\", sample_dict)\n"
   ]
  }
 ],
 "metadata": {
  "kernelspec": {
   "display_name": "Python 3",
   "language": "python",
   "name": "python3"
  },
  "language_info": {
   "codemirror_mode": {
    "name": "ipython",
    "version": 3
   },
   "file_extension": ".py",
   "mimetype": "text/x-python",
   "name": "python",
   "nbconvert_exporter": "python",
   "pygments_lexer": "ipython3",
   "version": "3.11.9"
  }
 },
 "nbformat": 4,
 "nbformat_minor": 2
}
