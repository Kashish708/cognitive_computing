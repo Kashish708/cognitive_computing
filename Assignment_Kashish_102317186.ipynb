{
 "cells": [
  {
   "cell_type": "code",
   "execution_count": 99,
   "metadata": {},
   "outputs": [
    {
     "name": "stdout",
     "output_type": "stream",
     "text": [
      "Anything You find cool.\n"
     ]
    }
   ],
   "source": [
    "# 1. Hello World\n",
    "print(\"Anything You find cool.\")\n"
   ]
  },
  {
   "cell_type": "code",
   "execution_count": 100,
   "metadata": {},
   "outputs": [
    {
     "name": "stdout",
     "output_type": "stream",
     "text": [
      "The sum is: 31\n"
     ]
    }
   ],
   "source": [
    "# 2.1 Add two numbers\n",
    "num_1 = 11\n",
    "num_2 = 20\n",
    "result = num_1 + num_2\n",
    "print(\"The sum is:\", result)\n"
   ]
  },
  {
   "cell_type": "code",
   "execution_count": 101,
   "metadata": {},
   "outputs": [
    {
     "name": "stdout",
     "output_type": "stream",
     "text": [
      "Concatenated string: Hello World\n"
     ]
    }
   ],
   "source": [
    "# 2.2 Concatenate two strings\n",
    "str_1 = \"Hello\"\n",
    "str_2 = \"World\"\n",
    "result = str_1 + \" \" + str_2\n",
    "print(\"Concatenated string:\", result)"
   ]
  },
  {
   "cell_type": "code",
   "execution_count": 102,
   "metadata": {},
   "outputs": [
    {
     "name": "stdout",
     "output_type": "stream",
     "text": [
      "Concatenated result: Age: 25\n"
     ]
    }
   ],
   "source": [
    "# 2.3 Concatenate a string and a number\n",
    "string = \"Age: \"\n",
    "number = 25\n",
    "result = string + str(number)\n",
    "print(\"Concatenated result:\", result)"
   ]
  },
  {
   "cell_type": "code",
   "execution_count": 103,
   "metadata": {},
   "outputs": [
    {
     "name": "stdout",
     "output_type": "stream",
     "text": [
      "The number is positive.\n"
     ]
    }
   ],
   "source": [
    "# 3.1 Check if a number is positive, negative, or zero\n",
    "num = 6\n",
    "if num > 0:\n",
    "    print(\"The number is positive.\")\n",
    "elif num < 0:\n",
    "    print(\"The number is negative.\")\n",
    "else:\n",
    "    print(\"The number is zero.\")"
   ]
  },
  {
   "cell_type": "code",
   "execution_count": 104,
   "metadata": {},
   "outputs": [
    {
     "name": "stdout",
     "output_type": "stream",
     "text": [
      "The number is odd.\n"
     ]
    }
   ],
   "source": [
    "# 3.2 Check if a number is odd or even\n",
    "num = 9\n",
    "if num % 2 == 0:\n",
    "    print(\"The number is even.\")\n",
    "else:\n",
    "    print(\"The number is odd.\")"
   ]
  },
  {
   "cell_type": "code",
   "execution_count": 105,
   "metadata": {},
   "outputs": [
    {
     "name": "stdout",
     "output_type": "stream",
     "text": [
      "1\n",
      "2\n",
      "3\n",
      "4\n",
      "5\n",
      "6\n",
      "7\n",
      "8\n",
      "9\n",
      "10\n"
     ]
    }
   ],
   "source": [
    "# 4.1 Print numbers from 1 to 10 using a for loop\n",
    "for i in range(1, 11):\n",
    "    print(i)"
   ]
  },
  {
   "cell_type": "code",
   "execution_count": 106,
   "metadata": {},
   "outputs": [
    {
     "name": "stdout",
     "output_type": "stream",
     "text": [
      "1\n",
      "2\n",
      "3\n",
      "4\n",
      "5\n",
      "6\n",
      "7\n",
      "8\n",
      "9\n",
      "10\n"
     ]
    }
   ],
   "source": [
    "# 4.2 Print numbers from 1 to 10 using a while loop\n",
    "i = 1\n",
    "while i <= 10:\n",
    "    print(i)\n",
    "    i += 1"
   ]
  },
  {
   "cell_type": "code",
   "execution_count": 107,
   "metadata": {},
   "outputs": [
    {
     "name": "stdout",
     "output_type": "stream",
     "text": [
      "The sum of numbers from 1 to 100 is: 5050\n"
     ]
    }
   ],
   "source": [
    "# 4.3 Calculate the sum of numbers from 1 to 100 using a loop\n",
    "total = 0\n",
    "for i in range(1, 101):\n",
    "    total += i\n",
    "print(\"The sum of numbers from 1 to 100 is:\", total)"
   ]
  },
  {
   "cell_type": "code",
   "execution_count": 108,
   "metadata": {},
   "outputs": [
    {
     "name": "stdout",
     "output_type": "stream",
     "text": [
      "Largest number: 14\n",
      "Smallest number: 0\n"
     ]
    }
   ],
   "source": [
    "# 5.1 Find the largest and smallest number in a list\n",
    "numbers = [2, 9, 0, 6, 14]\n",
    "largest = max(numbers)\n",
    "smallest = min(numbers)\n",
    "print(\"Largest number:\", largest)\n",
    "print(\"Smallest number:\", smallest)"
   ]
  },
  {
   "cell_type": "code",
   "execution_count": 109,
   "metadata": {},
   "outputs": [
    {
     "name": "stdout",
     "output_type": "stream",
     "text": [
      "The value for 'city' is: Bhopal\n"
     ]
    }
   ],
   "source": [
    "# 5.2 Retrieve value of a key from a dictionary\n",
    "my_dict = {\"name\": \"Joe\", \"age\": 15, \"city\": \"Bhopal\"}\n",
    "key = \"city\"\n",
    "if key in my_dict:\n",
    "    print(f\"The value for '{key}' is:\", my_dict[key])\n",
    "else:\n",
    "    print(f\"Key '{key}' not found in dictionary.\")"
   ]
  },
  {
   "cell_type": "code",
   "execution_count": 110,
   "metadata": {},
   "outputs": [
    {
     "name": "stdout",
     "output_type": "stream",
     "text": [
      "Ascending order: [0, 2, 6, 9, 14]\n",
      "Descending order: [14, 9, 6, 2, 0]\n"
     ]
    }
   ],
   "source": [
    "# 5.3 Sort a list in ascending and descending order\n",
    "numbers = [2, 9, 0, 6, 14]\n",
    "ascending = sorted(numbers)\n",
    "descending = sorted(numbers, reverse=True)\n",
    "print(\"Ascending order:\", ascending)\n",
    "print(\"Descending order:\", descending)"
   ]
  },
  {
   "cell_type": "code",
   "execution_count": 111,
   "metadata": {},
   "outputs": [
    {
     "name": "stdout",
     "output_type": "stream",
     "text": [
      "Merged dictionary: {'a': 1, 'b': 2, 'c': 3, 'd': 4}\n"
     ]
    }
   ],
   "source": [
    "# 5.4 Merge two dictionaries\n",
    "dict1 = {\"a\": 1, \"b\": 2}\n",
    "dict2 = {\"c\": 3, \"d\": 4}\n",
    "merged_dict = {**dict1, **dict2}\n",
    "print(\"Merged dictionary:\", merged_dict)"
   ]
  },
  {
   "cell_type": "code",
   "execution_count": 112,
   "metadata": {},
   "outputs": [
    {
     "name": "stdout",
     "output_type": "stream",
     "text": [
      "Number of vowels: 2\n"
     ]
    }
   ],
   "source": [
    "# 6.1 Count the number of vowels in a given string\n",
    "string = \"Hello\"\n",
    "vowels = \"aeiouAEIOU\"\n",
    "count = sum(1 for char in string if char in vowels)\n",
    "print(\"Number of vowels:\", count)"
   ]
  },
  {
   "cell_type": "code",
   "execution_count": 113,
   "metadata": {},
   "outputs": [
    {
     "name": "stdout",
     "output_type": "stream",
     "text": [
      "Reversed string: olleH\n"
     ]
    }
   ],
   "source": [
    "# 6.2 Reverse a string and print it\n",
    "string = \"Hello\"\n",
    "reversed_string = string[::-1]\n",
    "print(\"Reversed string:\", reversed_string)\n"
   ]
  },
  {
   "cell_type": "code",
   "execution_count": 114,
   "metadata": {},
   "outputs": [
    {
     "name": "stdout",
     "output_type": "stream",
     "text": [
      "\"madam\" is a palindrome.\n"
     ]
    }
   ],
   "source": [
    "# 6.3 Check if a string is a palindrome\n",
    "string = \"madam\"\n",
    "if string == string[::-1]:\n",
    "    print(f'\"{string}\" is a palindrome.')\n",
    "else:\n",
    "    print(f'\"{string}\" is not a palindrome.')"
   ]
  },
  {
   "cell_type": "code",
   "execution_count": 115,
   "metadata": {},
   "outputs": [
    {
     "name": "stdout",
     "output_type": "stream",
     "text": [
      "File content: This is a text file.\n"
     ]
    }
   ],
   "source": [
    "# 7.1 Create a text file, write to it, read, and print the content\n",
    "with open(\"example.txt\", \"w\") as file:\n",
    "    file.write(\"This is a text file.\")\n",
    "with open(\"example.txt\", \"r\") as file:\n",
    "    content = file.read()\n",
    "print(\"File content:\", content)"
   ]
  },
  {
   "cell_type": "code",
   "execution_count": 116,
   "metadata": {},
   "outputs": [
    {
     "name": "stdout",
     "output_type": "stream",
     "text": [
      "Updated file content: This is a text file.\n",
      "This is appended text.\n"
     ]
    }
   ],
   "source": [
    "# 7.2 Append text to an existing file and print updated content\n",
    "with open(\"example.txt\", \"a\") as file:\n",
    "    file.write(\"\\nThis is appended text.\")\n",
    "with open(\"example.txt\", \"r\") as file:\n",
    "    updated_content = file.read()\n",
    "print(\"Updated file content:\", updated_content)"
   ]
  },
  {
   "cell_type": "code",
   "execution_count": 117,
   "metadata": {},
   "outputs": [
    {
     "name": "stdout",
     "output_type": "stream",
     "text": [
      "Number of lines in the file: 2\n"
     ]
    }
   ],
   "source": [
    "# 7.3 Count the number of lines in a text file\n",
    "with open(\"example.txt\", \"r\") as file:\n",
    "    line_count = sum(1 for line in file)\n",
    "print(\"Number of lines in the file:\", line_count)"
   ]
  },
  {
   "cell_type": "code",
   "execution_count": 118,
   "metadata": {},
   "outputs": [
    {
     "name": "stdout",
     "output_type": "stream",
     "text": [
      "Error: Division by zero is not allowed.\n"
     ]
    }
   ],
   "source": [
    "# 8.1 Handle division by zero using try-except\n",
    "try:\n",
    "    result = 10 / 0\n",
    "except ZeroDivisionError:\n",
    "    print(\"Error: Division by zero is not allowed.\")"
   ]
  },
  {
   "cell_type": "code",
   "execution_count": 119,
   "metadata": {},
   "outputs": [
    {
     "name": "stdout",
     "output_type": "stream",
     "text": [
      "Invalid input. Please enter a number.\n"
     ]
    }
   ],
   "source": [
    "# 8.2 Handle invalid input\n",
    "try:\n",
    "    num = int(input(\"Enter a number: \"))\n",
    "    print(\"You entered:\", num)\n",
    "except ValueError:\n",
    "    print(\"Invalid input. Please enter a number.\")"
   ]
  },
  {
   "cell_type": "code",
   "execution_count": 120,
   "metadata": {},
   "outputs": [
    {
     "name": "stdout",
     "output_type": "stream",
     "text": [
      "Invalid input.\n",
      "Execution of the try-except block is complete.\n"
     ]
    }
   ],
   "source": [
    "# 8.3 Demonstrate the use of finally in exception handling\n",
    "try:\n",
    "    num = int(input(\"Enter a number: \"))\n",
    "    result = 100 / num\n",
    "    print(\"Result:\", result)\n",
    "except ZeroDivisionError:\n",
    "    print(\"Cannot divide by zero.\")\n",
    "except ValueError:\n",
    "    print(\"Invalid input.\")\n",
    "finally:\n",
    "    print(\"Execution of the try-except block is complete.\")"
   ]
  },
  {
   "cell_type": "code",
   "execution_count": 121,
   "metadata": {},
   "outputs": [
    {
     "name": "stdout",
     "output_type": "stream",
     "text": [
      "48\n",
      "69\n",
      "82\n",
      "8\n",
      "1\n"
     ]
    }
   ],
   "source": [
    "import random\n",
    "\n",
    "# 9.1 Generate 5 random numbers between 1 and 100 and print them\n",
    "for _ in range(5):\n",
    "    print(random.randint(1, 100))"
   ]
  },
  {
   "cell_type": "code",
   "execution_count": 122,
   "metadata": {},
   "outputs": [
    {
     "name": "stdout",
     "output_type": "stream",
     "text": [
      "Random number: 42\n",
      "42 is not a prime number.\n"
     ]
    }
   ],
   "source": [
    "import random\n",
    "\n",
    "# 9.2 Generate a random number and check if it is prime\n",
    "def is_prime(num):\n",
    "    if num < 2:\n",
    "        return False\n",
    "    for i in range(2, int(num ** 0.5) + 1):\n",
    "        if num % i == 0:\n",
    "            return False\n",
    "    return True\n",
    "\n",
    "num = random.randint(1, 100)\n",
    "print(f\"Random number: {num}\")\n",
    "if is_prime(num):\n",
    "    print(f\"{num} is a prime number.\")\n",
    "else:\n",
    "    print(f\"{num} is not a prime number.\")"
   ]
  },
  {
   "cell_type": "code",
   "execution_count": 123,
   "metadata": {},
   "outputs": [
    {
     "name": "stdout",
     "output_type": "stream",
     "text": [
      "Rolled die value: 1\n"
     ]
    }
   ],
   "source": [
    "import random \n",
    "\n",
    "# 9.3 Simulate rolling a six-sided die\n",
    "die_roll = random.randint(1, 6)\n",
    "print(\"Rolled die value:\", die_roll)"
   ]
  },
  {
   "cell_type": "code",
   "execution_count": 124,
   "metadata": {},
   "outputs": [
    {
     "name": "stdout",
     "output_type": "stream",
     "text": [
      "Shuffled list: [4, 2, 5, 1, 3]\n"
     ]
    }
   ],
   "source": [
    "import random\n",
    "\n",
    "# 9.4 Shuffle a list of numbers\n",
    "numbers = [1, 2, 3, 4, 5]\n",
    "random.shuffle(numbers)\n",
    "print(\"Shuffled list:\", numbers)"
   ]
  },
  {
   "cell_type": "code",
   "execution_count": 125,
   "metadata": {},
   "outputs": [
    {
     "name": "stdout",
     "output_type": "stream",
     "text": [
      "Randomly selected item: banana\n"
     ]
    }
   ],
   "source": [
    "import random \n",
    "\n",
    "# 9.5 Randomly select an item from a list\n",
    "items = [\"orange\", \"banana\", \"time\", \"date\"]\n",
    "selected_item = random.choice(items)\n",
    "print(\"Randomly selected item:\", selected_item)"
   ]
  },
  {
   "cell_type": "code",
   "execution_count": 126,
   "metadata": {},
   "outputs": [
    {
     "name": "stdout",
     "output_type": "stream",
     "text": [
      "Random password: pFzmqz.A\n"
     ]
    }
   ],
   "source": [
    "import random \n",
    "\n",
    "# 9.6 Generate a random password of 8 characters\n",
    "import string\n",
    "characters = string.ascii_letters + string.digits + string.punctuation\n",
    "password = ''.join(random.choice(characters) for _ in range(8))\n",
    "print(\"Random password:\", password)\n"
   ]
  },
  {
   "cell_type": "code",
   "execution_count": 127,
   "metadata": {},
   "outputs": [
    {
     "name": "stdout",
     "output_type": "stream",
     "text": [
      "Random card: 3 of Hearts\n"
     ]
    }
   ],
   "source": [
    "import random \n",
    "\n",
    "# 9.7 Pick a random card from a standard deck of 52 cards\n",
    "suits = [\"Hearts\", \"Diamonds\", \"Clubs\", \"Spades\"]\n",
    "values = [\"2\", \"3\", \"4\", \"5\", \"6\", \"7\", \"8\", \"9\", \"10\", \"Jack\", \"Queen\", \"King\", \"Ace\"]\n",
    "random_card = f\"{random.choice(values)} of {random.choice(suits)}\"\n",
    "print(\"Random card:\", random_card)"
   ]
  },
  {
   "cell_type": "code",
   "execution_count": 136,
   "metadata": {},
   "outputs": [
    {
     "name": "stdout",
     "output_type": "stream",
     "text": [
      "Usage: python script.py <number1> <number2>\n"
     ]
    }
   ],
   "source": [
    "#10.1 Write a program to accept two numbers as command-line arguments, add them, and print the result.\n",
    "\n",
    "import sys\n",
    "\n",
    "if len(sys.argv) != 3:\n",
    "    print(\"Usage: python script.py <number1> <number2>\")\n",
    "else:\n",
    "    try:\n",
    "        num1 = float(sys.argv[1])\n",
    "        num2 = float(sys.argv[2])\n",
    "        result = num1 + num2\n",
    "        print(f\"The sum of {num1} and {num2} is {result}.\")\n",
    "    except ValueError:\n",
    "        print(\"Please provide valid numbers.\")"
   ]
  },
  {
   "cell_type": "code",
   "execution_count": 134,
   "metadata": {},
   "outputs": [
    {
     "name": "stdout",
     "output_type": "stream",
     "text": [
      "The length of the string '--f=c:\\Users\\Kashish\\AppData\\Roaming\\jupyter\\runtime\\kernel-v3aef9c507cbecdad9a5a8971288ab76afb3df8508.json' is 107.\n"
     ]
    }
   ],
   "source": [
    "#10.2 Write a program to accept a string as a command-line argument and print its length.\n",
    "\n",
    "import sys\n",
    "\n",
    "if len(sys.argv) != 2:\n",
    "    print(\"Usage: python script.py <string>\")\n",
    "else:\n",
    "    input_string = sys.argv[1]\n",
    "    print(f\"The length of the string '{input_string}' is {len(input_string)}.\")"
   ]
  },
  {
   "cell_type": "code",
   "execution_count": 133,
   "metadata": {},
   "outputs": [
    {
     "name": "stdout",
     "output_type": "stream",
     "text": [
      "The square root of 49.0 is 7.0.\n"
     ]
    }
   ],
   "source": [
    "#11.1 Write a program to use the math library to calculate the square root of a given number.\n",
    "\n",
    "import math\n",
    "\n",
    "try:\n",
    "    number = float(input(\"Enter a number: \"))\n",
    "    if number < 0:\n",
    "        print(\"Square root is not defined for negative numbers.\")\n",
    "    else:\n",
    "        print(f\"The square root of {number} is {math.sqrt(number)}.\")\n",
    "except ValueError:\n",
    "    print(\"Please enter a valid number.\")"
   ]
  },
  {
   "cell_type": "code",
   "execution_count": 131,
   "metadata": {},
   "outputs": [
    {
     "name": "stdout",
     "output_type": "stream",
     "text": [
      "The current date and time is: 2025-01-12 19:42:53.958404\n"
     ]
    }
   ],
   "source": [
    "#11.2 Write a program to use the datetime library to print the current date and time.\n",
    "\n",
    "from datetime import datetime\n",
    "\n",
    "current_datetime = datetime.now()\n",
    "print(f\"The current date and time is: {current_datetime}\")"
   ]
  },
  {
   "cell_type": "code",
   "execution_count": 132,
   "metadata": {},
   "outputs": [
    {
     "name": "stdout",
     "output_type": "stream",
     "text": [
      "Files in the current directory:\n",
      "1. Hello World.ipynb\n",
      "example.txt\n"
     ]
    }
   ],
   "source": [
    "#11.3 Write a program to use the os library to list all files in the current directory.\n",
    "import os\n",
    "\n",
    "files = os.listdir(\".\")\n",
    "print(\"Files in the current directory:\")\n",
    "for file in files:\n",
    "    print(file)"
   ]
  }
 ],
 "metadata": {
  "kernelspec": {
   "display_name": "Python 3",
   "language": "python",
   "name": "python3"
  },
  "language_info": {
   "codemirror_mode": {
    "name": "ipython",
    "version": 3
   },
   "file_extension": ".py",
   "mimetype": "text/x-python",
   "name": "python",
   "nbconvert_exporter": "python",
   "pygments_lexer": "ipython3",
   "version": "3.11.9"
  }
 },
 "nbformat": 4,
 "nbformat_minor": 2
}
